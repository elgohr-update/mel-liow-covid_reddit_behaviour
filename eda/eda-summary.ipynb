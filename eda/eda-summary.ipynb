{
 "cells": [
  {
   "cell_type": "markdown",
   "id": "8ebf787f-5388-400b-9bd0-f9c91951459e",
   "metadata": {},
   "source": [
    "# Summary\n",
    "1. At the global level, some authors contribute to more than one records in the dataset.\n",
    "2. The number of unique authors before the pandemic is more than after pandemic for all subreddit.\n",
    "3. The mean of the substance use total before pandemic is slower than after pandemic for all subreddit. \n",
    "\n",
    "## Steps and Methods\n",
    "- Histogram: The distribution of `substance_use_total` before and after pandemic. `x axis`: bins. `y axis`: count of `substance_use_total`. This aim to get a comparison of the `substance_use_total` between th \n",
    "two period.\n",
    "- Time Series Plot: The count of `substance_use_total` trends over time(sum by month).`x axis`: date time. `y axis`: the total count of `substance_use_total`\n",
    "in a given month. This aim to get an overview of how the feature varies with time. \n",
    "\n",
    "## Conclusion\n",
    "From the histogram above, pre COVID records is more than the post COVID records, results is not intuitive because we have only 3 months for\n",
    "post pandemic while 11 months for pre pandemic. For the time series plot, the records slumped at Nov, 2019. Despite of this, the count \n",
    "appeared to increase after Jan, 2020 in all time series plots, especially for anxiety. "
   ]
  },
  {
   "cell_type": "code",
   "execution_count": 1,
   "id": "21ba3d0e-e3e1-4d35-ad2b-6eae24383366",
   "metadata": {},
   "outputs": [
    {
     "data": {
      "text/plain": [
       "RendererRegistry.enable('mimetype')"
      ]
     },
     "execution_count": 1,
     "metadata": {},
     "output_type": "execute_result"
    }
   ],
   "source": [
    "import os\n",
    "import glob\n",
    "import pandas as pd\n",
    "import altair as alt\n",
    "alt.data_transformers.enable('data_server')\n",
    "alt.renderers.enable('mimetype')"
   ]
  },
  {
   "cell_type": "markdown",
   "id": "9bacb907-91f2-4e96-b392-7c4aea7d5d34",
   "metadata": {},
   "source": [
    "# Combine all data file together"
   ]
  },
  {
   "cell_type": "code",
   "execution_count": 2,
   "id": "f4904011-1d7d-4d66-9922-82f76d71f39b",
   "metadata": {},
   "outputs": [],
   "source": [
    "os.chdir(\"/Users/maeveshi/Desktop/processed\")\n",
    "extension = 'csv'\n",
    "all_filenames = [i for i in glob.glob('*.{}'.format(extension))]"
   ]
  },
  {
   "cell_type": "code",
   "execution_count": 3,
   "id": "73933053-3d9e-4cae-973f-21ac9516b356",
   "metadata": {},
   "outputs": [],
   "source": [
    "combined_csv = pd.concat([pd.read_csv(f) for f in all_filenames])"
   ]
  },
  {
   "cell_type": "code",
   "execution_count": 4,
   "id": "8b44547b-cbab-4344-a3ae-7049eeb8c8df",
   "metadata": {},
   "outputs": [
    {
     "data": {
      "text/html": [
       "<div>\n",
       "<style scoped>\n",
       "    .dataframe tbody tr th:only-of-type {\n",
       "        vertical-align: middle;\n",
       "    }\n",
       "\n",
       "    .dataframe tbody tr th {\n",
       "        vertical-align: top;\n",
       "    }\n",
       "\n",
       "    .dataframe thead th {\n",
       "        text-align: right;\n",
       "    }\n",
       "</style>\n",
       "<table border=\"1\" class=\"dataframe\">\n",
       "  <thead>\n",
       "    <tr style=\"text-align: right;\">\n",
       "      <th></th>\n",
       "      <th>Unnamed: 0</th>\n",
       "      <th>subreddit</th>\n",
       "      <th>author</th>\n",
       "      <th>date</th>\n",
       "      <th>post</th>\n",
       "      <th>substance_use_total</th>\n",
       "      <th>period</th>\n",
       "    </tr>\n",
       "  </thead>\n",
       "  <tbody>\n",
       "    <tr>\n",
       "      <th>0</th>\n",
       "      <td>0</td>\n",
       "      <td>bipolarreddit</td>\n",
       "      <td>onetrueking666</td>\n",
       "      <td>2019/08/04</td>\n",
       "      <td>How to tell a new significant other that you’r...</td>\n",
       "      <td>0</td>\n",
       "      <td>pre</td>\n",
       "    </tr>\n",
       "    <tr>\n",
       "      <th>1</th>\n",
       "      <td>1</td>\n",
       "      <td>bipolarreddit</td>\n",
       "      <td>CapriciousFatal</td>\n",
       "      <td>2019/08/04</td>\n",
       "      <td>How many depressive episodes did you have befo...</td>\n",
       "      <td>0</td>\n",
       "      <td>pre</td>\n",
       "    </tr>\n",
       "    <tr>\n",
       "      <th>2</th>\n",
       "      <td>2</td>\n",
       "      <td>bipolarreddit</td>\n",
       "      <td>planarX</td>\n",
       "      <td>2019/08/04</td>\n",
       "      <td>Update, additional advice requested: Bipolar g...</td>\n",
       "      <td>0</td>\n",
       "      <td>pre</td>\n",
       "    </tr>\n",
       "    <tr>\n",
       "      <th>3</th>\n",
       "      <td>3</td>\n",
       "      <td>bipolarreddit</td>\n",
       "      <td>i_am_meee</td>\n",
       "      <td>2019/08/04</td>\n",
       "      <td>Think I’m stable but not completely satisfied ...</td>\n",
       "      <td>0</td>\n",
       "      <td>pre</td>\n",
       "    </tr>\n",
       "    <tr>\n",
       "      <th>4</th>\n",
       "      <td>4</td>\n",
       "      <td>bipolarreddit</td>\n",
       "      <td>emobf</td>\n",
       "      <td>2019/08/04</td>\n",
       "      <td>In need of some advice/education on Bipolar di...</td>\n",
       "      <td>0</td>\n",
       "      <td>pre</td>\n",
       "    </tr>\n",
       "  </tbody>\n",
       "</table>\n",
       "</div>"
      ],
      "text/plain": [
       "   Unnamed: 0      subreddit           author        date  \\\n",
       "0           0  bipolarreddit   onetrueking666  2019/08/04   \n",
       "1           1  bipolarreddit  CapriciousFatal  2019/08/04   \n",
       "2           2  bipolarreddit          planarX  2019/08/04   \n",
       "3           3  bipolarreddit        i_am_meee  2019/08/04   \n",
       "4           4  bipolarreddit            emobf  2019/08/04   \n",
       "\n",
       "                                                post  substance_use_total  \\\n",
       "0  How to tell a new significant other that you’r...                    0   \n",
       "1  How many depressive episodes did you have befo...                    0   \n",
       "2  Update, additional advice requested: Bipolar g...                    0   \n",
       "3  Think I’m stable but not completely satisfied ...                    0   \n",
       "4  In need of some advice/education on Bipolar di...                    0   \n",
       "\n",
       "  period  \n",
       "0    pre  \n",
       "1    pre  \n",
       "2    pre  \n",
       "3    pre  \n",
       "4    pre  "
      ]
     },
     "execution_count": 4,
     "metadata": {},
     "output_type": "execute_result"
    }
   ],
   "source": [
    "combined_csv.head(5)"
   ]
  },
  {
   "cell_type": "code",
   "execution_count": 5,
   "id": "c8908233-a59e-479a-8ebb-94d79f2d3ca3",
   "metadata": {},
   "outputs": [
    {
     "data": {
      "text/html": [
       "<div>\n",
       "<style scoped>\n",
       "    .dataframe tbody tr th:only-of-type {\n",
       "        vertical-align: middle;\n",
       "    }\n",
       "\n",
       "    .dataframe tbody tr th {\n",
       "        vertical-align: top;\n",
       "    }\n",
       "\n",
       "    .dataframe thead th {\n",
       "        text-align: right;\n",
       "    }\n",
       "</style>\n",
       "<table border=\"1\" class=\"dataframe\">\n",
       "  <thead>\n",
       "    <tr style=\"text-align: right;\">\n",
       "      <th></th>\n",
       "      <th>Unnamed: 0</th>\n",
       "      <th>subreddit</th>\n",
       "      <th>author</th>\n",
       "      <th>date</th>\n",
       "      <th>post</th>\n",
       "      <th>substance_use_total</th>\n",
       "      <th>period</th>\n",
       "    </tr>\n",
       "  </thead>\n",
       "  <tbody>\n",
       "    <tr>\n",
       "      <th>6160</th>\n",
       "      <td>3733</td>\n",
       "      <td>socialanxiety</td>\n",
       "      <td>buriedclementines</td>\n",
       "      <td>2020/04/20</td>\n",
       "      <td>My beautiful, idiot friends are forcing me int...</td>\n",
       "      <td>0</td>\n",
       "      <td>post</td>\n",
       "    </tr>\n",
       "    <tr>\n",
       "      <th>6161</th>\n",
       "      <td>3734</td>\n",
       "      <td>socialanxiety</td>\n",
       "      <td>tjajlol</td>\n",
       "      <td>2020/04/20</td>\n",
       "      <td>Medications? I’m 19 and I’ve been struggling w...</td>\n",
       "      <td>1</td>\n",
       "      <td>post</td>\n",
       "    </tr>\n",
       "    <tr>\n",
       "      <th>6162</th>\n",
       "      <td>3735</td>\n",
       "      <td>socialanxiety</td>\n",
       "      <td>xboom131</td>\n",
       "      <td>2020/04/20</td>\n",
       "      <td>Anxious on Social media Does anyone else get a...</td>\n",
       "      <td>0</td>\n",
       "      <td>post</td>\n",
       "    </tr>\n",
       "    <tr>\n",
       "      <th>6163</th>\n",
       "      <td>3736</td>\n",
       "      <td>socialanxiety</td>\n",
       "      <td>Banaaaan12</td>\n",
       "      <td>2020/04/20</td>\n",
       "      <td>Helloo I have social anxiety and it really des...</td>\n",
       "      <td>0</td>\n",
       "      <td>post</td>\n",
       "    </tr>\n",
       "    <tr>\n",
       "      <th>6164</th>\n",
       "      <td>3737</td>\n",
       "      <td>socialanxiety</td>\n",
       "      <td>dueterzi</td>\n",
       "      <td>2020/04/20</td>\n",
       "      <td>How do you deal with people telling you that y...</td>\n",
       "      <td>0</td>\n",
       "      <td>post</td>\n",
       "    </tr>\n",
       "  </tbody>\n",
       "</table>\n",
       "</div>"
      ],
      "text/plain": [
       "      Unnamed: 0      subreddit             author        date  \\\n",
       "6160        3733  socialanxiety  buriedclementines  2020/04/20   \n",
       "6161        3734  socialanxiety            tjajlol  2020/04/20   \n",
       "6162        3735  socialanxiety           xboom131  2020/04/20   \n",
       "6163        3736  socialanxiety         Banaaaan12  2020/04/20   \n",
       "6164        3737  socialanxiety           dueterzi  2020/04/20   \n",
       "\n",
       "                                                   post  substance_use_total  \\\n",
       "6160  My beautiful, idiot friends are forcing me int...                    0   \n",
       "6161  Medications? I’m 19 and I’ve been struggling w...                    1   \n",
       "6162  Anxious on Social media Does anyone else get a...                    0   \n",
       "6163  Helloo I have social anxiety and it really des...                    0   \n",
       "6164  How do you deal with people telling you that y...                    0   \n",
       "\n",
       "     period  \n",
       "6160   post  \n",
       "6161   post  \n",
       "6162   post  \n",
       "6163   post  \n",
       "6164   post  "
      ]
     },
     "execution_count": 5,
     "metadata": {},
     "output_type": "execute_result"
    }
   ],
   "source": [
    "combined_csv.tail(5)"
   ]
  },
  {
   "cell_type": "code",
   "execution_count": 6,
   "id": "93450cfa-81ea-4b53-889d-d22bc53ae162",
   "metadata": {},
   "outputs": [],
   "source": [
    "combined_pre = combined_csv.loc[combined_csv['period'] == 'pre'].drop('Unnamed: 0', axis = 1)\n",
    "combined_post = combined_csv.loc[combined_csv['period'] == 'post'].drop('Unnamed: 0', axis = 1)"
   ]
  },
  {
   "cell_type": "code",
   "execution_count": 7,
   "id": "41084dad-43da-46cf-a8ad-d89bfc9701a9",
   "metadata": {},
   "outputs": [
    {
     "name": "stdout",
     "output_type": "stream",
     "text": [
      "Total number of records in the pre-pandemic dataset: 137853\n"
     ]
    }
   ],
   "source": [
    "print(f'Total number of records in the pre-pandemic dataset: {len(combined_pre)}')"
   ]
  },
  {
   "cell_type": "code",
   "execution_count": 8,
   "id": "37d7efd2-d588-47a0-8ac7-b65c75fc1984",
   "metadata": {},
   "outputs": [
    {
     "name": "stdout",
     "output_type": "stream",
     "text": [
      "Total number of records in the post-pandemic dataset: 104327\n"
     ]
    }
   ],
   "source": [
    "print(f'Total number of records in the post-pandemic dataset: {len(combined_post)}')"
   ]
  },
  {
   "cell_type": "markdown",
   "id": "949d794e-6ced-4b43-a4c4-6e7edc6cc322",
   "metadata": {},
   "source": [
    "# High level analysis of pre and post dataset on global level"
   ]
  },
  {
   "cell_type": "code",
   "execution_count": 9,
   "id": "be31a6be-9b8a-4e0f-8f43-222a73eeb1df",
   "metadata": {},
   "outputs": [
    {
     "data": {
      "text/html": [
       "<div>\n",
       "<style scoped>\n",
       "    .dataframe tbody tr th:only-of-type {\n",
       "        vertical-align: middle;\n",
       "    }\n",
       "\n",
       "    .dataframe tbody tr th {\n",
       "        vertical-align: top;\n",
       "    }\n",
       "\n",
       "    .dataframe thead th {\n",
       "        text-align: right;\n",
       "    }\n",
       "</style>\n",
       "<table border=\"1\" class=\"dataframe\">\n",
       "  <thead>\n",
       "    <tr style=\"text-align: right;\">\n",
       "      <th></th>\n",
       "      <th>substance_use_total</th>\n",
       "      <th>substance_use_total</th>\n",
       "    </tr>\n",
       "  </thead>\n",
       "  <tbody>\n",
       "    <tr>\n",
       "      <th>count</th>\n",
       "      <td>137853.000000</td>\n",
       "      <td>104327.000000</td>\n",
       "    </tr>\n",
       "    <tr>\n",
       "      <th>mean</th>\n",
       "      <td>0.510856</td>\n",
       "      <td>0.600458</td>\n",
       "    </tr>\n",
       "    <tr>\n",
       "      <th>std</th>\n",
       "      <td>1.221545</td>\n",
       "      <td>1.495582</td>\n",
       "    </tr>\n",
       "    <tr>\n",
       "      <th>min</th>\n",
       "      <td>0.000000</td>\n",
       "      <td>0.000000</td>\n",
       "    </tr>\n",
       "    <tr>\n",
       "      <th>25%</th>\n",
       "      <td>0.000000</td>\n",
       "      <td>0.000000</td>\n",
       "    </tr>\n",
       "    <tr>\n",
       "      <th>50%</th>\n",
       "      <td>0.000000</td>\n",
       "      <td>0.000000</td>\n",
       "    </tr>\n",
       "    <tr>\n",
       "      <th>75%</th>\n",
       "      <td>1.000000</td>\n",
       "      <td>1.000000</td>\n",
       "    </tr>\n",
       "    <tr>\n",
       "      <th>max</th>\n",
       "      <td>44.000000</td>\n",
       "      <td>53.000000</td>\n",
       "    </tr>\n",
       "  </tbody>\n",
       "</table>\n",
       "</div>"
      ],
      "text/plain": [
       "       substance_use_total  substance_use_total\n",
       "count        137853.000000        104327.000000\n",
       "mean              0.510856             0.600458\n",
       "std               1.221545             1.495582\n",
       "min               0.000000             0.000000\n",
       "25%               0.000000             0.000000\n",
       "50%               0.000000             0.000000\n",
       "75%               1.000000             1.000000\n",
       "max              44.000000            53.000000"
      ]
     },
     "execution_count": 9,
     "metadata": {},
     "output_type": "execute_result"
    }
   ],
   "source": [
    "pd.concat([combined_pre.describe(), combined_post.describe()], axis=1)"
   ]
  },
  {
   "cell_type": "code",
   "execution_count": 13,
   "id": "d44cab2a-1edf-40a5-bfdc-275f2497950c",
   "metadata": {},
   "outputs": [
    {
     "data": {
      "application/vnd.vegalite.v4+json": {
       "$schema": "https://vega.github.io/schema/vega-lite/v4.8.1.json",
       "config": {
        "view": {
         "continuousHeight": 300,
         "continuousWidth": 400
        }
       },
       "data": {
        "url": "http://localhost:22742/0feaabcc70117e4eca630569f0a137ed.json"
       },
       "encoding": {
        "color": {
         "field": "period",
         "type": "nominal"
        },
        "x": {
         "bin": {
          "maxbins": 30
         },
         "field": "substance_use_total",
         "title": "Substance Use Total",
         "type": "quantitative"
        },
        "y": {
         "aggregate": "count",
         "title": "Count of Substance Use Total",
         "type": "quantitative"
        }
       },
       "mark": {
        "opacity": 0.5,
        "type": "bar"
       },
       "title": "Frequency of Substance Use Total Before and After Pandemic"
      },
      "image/png": "[encoded data removed]",
      "text/plain": [
       "<VegaLite 4 object>\n",
       "\n",
       "If you see this message, it means the renderer has not been properly enabled\n",
       "for the frontend that you are using. For more information, see\n",
       "https://altair-viz.github.io/user_guide/troubleshooting.html\n"
      ]
     },
     "execution_count": 13,
     "metadata": {},
     "output_type": "execute_result"
    }
   ],
   "source": [
    "alt.Chart(combined_csv, title = 'Frequency of Substance Use Total Before and After Pandemic').mark_bar(opacity=0.5).encode(\n",
    "    x=alt.X('substance_use_total', bin=alt.Bin(maxbins=30), title = 'Substance Use Total'),\n",
    "    y=alt.Y('count()', title = 'Count of Substance Use Total'),\n",
    "    color='period'\n",
    ")"
   ]
  },
  {
   "cell_type": "code",
   "execution_count": 11,
   "id": "09587706-f37a-4e47-97bc-73f764fbd7a7",
   "metadata": {},
   "outputs": [
    {
     "name": "stdout",
     "output_type": "stream",
     "text": [
      "Number of unique authors (posters) in 'pre' dataset: 128251\n",
      "Number of unique authors (posters) in 'post' dataset: 95135\n"
     ]
    }
   ],
   "source": [
    "print(f\"Number of unique authors (posters) in 'pre' dataset: {len(combined_pre.author.unique())}\")\n",
    "print(f\"Number of unique authors (posters) in 'post' dataset: {len(combined_post.author.unique())}\")"
   ]
  }
 ],
 "metadata": {
  "kernelspec": {
   "display_name": "Python 3 (ipykernel)",
   "language": "python",
   "name": "python3"
  },
  "language_info": {
   "codemirror_mode": {
    "name": "ipython",
    "version": 3
   },
   "file_extension": ".py",
   "mimetype": "text/x-python",
   "name": "python",
   "nbconvert_exporter": "python",
   "pygments_lexer": "ipython3",
   "version": "3.9.7"
  }
 },
 "nbformat": 4,
 "nbformat_minor": 5
}
