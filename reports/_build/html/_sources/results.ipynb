{
 "cells": [
  {
   "cell_type": "markdown",
   "source": [
    "# Results\n",
    "\n"
   ],
   "metadata": {}
  },
  {
   "cell_type": "markdown",
   "source": [
    "Using the Wilcoxon rank-sum test from the Python `scipy.stats` library, we can set up our hypotheses for this test as follows:\n",
    "\n",
    "$H_0:$ The median number of references to substance abuse per Reddit post is the same in subreddit-specific _before_ and _during_ COVID-19 datasets.\n",
    "\n",
    "$H_a:$ The median number of references to substance abuse per Reddit post is **not** the same in subreddit-specific _before_ and _during_ COVID-19 datasets.\n",
    "\n",
    "The `scipy.stats` library provided the corresponding p-values for each subreddit. The smaller the p-value, the stronger the evidence against the null hypothesis $H_0$. For a given subreddit, if the p-value is smaller than the predetermined level $\\alpha = 0.05$, then there is evidence to reject the null hypothesis in favour of the alternative hypothesis, $H_a$.  \n",
    "\n",
    "Our results for each subreddit is as follows:"
   ],
   "metadata": {}
  },
  {
   "cell_type": "code",
   "execution_count": 13,
   "source": [
    "import pandas as pd\n",
    "import os\n",
    "os.chdir('../analysis')\n",
    "results = pd.read_csv('stat_tests/stat_tests.csv', index_col=False)\n",
    "\n",
    "results.columns = ['Subreddit', 'Test statistic', 'p value']\n",
    "results.style.hide_index()"
   ],
   "outputs": [
    {
     "output_type": "execute_result",
     "data": {
      "text/plain": [
       "<pandas.io.formats.style.Styler at 0x16a831fc0>"
      ],
      "text/html": [
       "<style type=\"text/css\">\n",
       "</style>\n",
       "<table id=\"T_c8f22_\">\n",
       "  <thead>\n",
       "    <tr>\n",
       "      <th class=\"col_heading level0 col0\" >Subreddit</th>\n",
       "      <th class=\"col_heading level0 col1\" >Test statistic</th>\n",
       "      <th class=\"col_heading level0 col2\" >p value</th>\n",
       "    </tr>\n",
       "  </thead>\n",
       "  <tbody>\n",
       "    <tr>\n",
       "      <td id=\"T_c8f22_row0_col0\" class=\"data row0 col0\" >bipolarreddit</td>\n",
       "      <td id=\"T_c8f22_row0_col1\" class=\"data row0 col1\" >-0.692095</td>\n",
       "      <td id=\"T_c8f22_row0_col2\" class=\"data row0 col2\" >0.488878</td>\n",
       "    </tr>\n",
       "    <tr>\n",
       "      <td id=\"T_c8f22_row1_col0\" class=\"data row1 col0\" >EDAnonymous</td>\n",
       "      <td id=\"T_c8f22_row1_col1\" class=\"data row1 col1\" >1.922717</td>\n",
       "      <td id=\"T_c8f22_row1_col2\" class=\"data row1 col2\" >0.054516</td>\n",
       "    </tr>\n",
       "    <tr>\n",
       "      <td id=\"T_c8f22_row2_col0\" class=\"data row2 col0\" >socialanxiety</td>\n",
       "      <td id=\"T_c8f22_row2_col1\" class=\"data row2 col1\" >0.990075</td>\n",
       "      <td id=\"T_c8f22_row2_col2\" class=\"data row2 col2\" >0.322138</td>\n",
       "    </tr>\n",
       "    <tr>\n",
       "      <td id=\"T_c8f22_row3_col0\" class=\"data row3 col0\" >alcoholism</td>\n",
       "      <td id=\"T_c8f22_row3_col1\" class=\"data row3 col1\" >-1.407757</td>\n",
       "      <td id=\"T_c8f22_row3_col2\" class=\"data row3 col2\" >0.159203</td>\n",
       "    </tr>\n",
       "    <tr>\n",
       "      <td id=\"T_c8f22_row4_col0\" class=\"data row4 col0\" >lonely</td>\n",
       "      <td id=\"T_c8f22_row4_col1\" class=\"data row4 col1\" >-2.041229</td>\n",
       "      <td id=\"T_c8f22_row4_col2\" class=\"data row4 col2\" >0.041228</td>\n",
       "    </tr>\n",
       "    <tr>\n",
       "      <td id=\"T_c8f22_row5_col0\" class=\"data row5 col0\" >healthanxiety</td>\n",
       "      <td id=\"T_c8f22_row5_col1\" class=\"data row5 col1\" >0.184029</td>\n",
       "      <td id=\"T_c8f22_row5_col2\" class=\"data row5 col2\" >0.853990</td>\n",
       "    </tr>\n",
       "    <tr>\n",
       "      <td id=\"T_c8f22_row6_col0\" class=\"data row6 col0\" >ptsd</td>\n",
       "      <td id=\"T_c8f22_row6_col1\" class=\"data row6 col1\" >-0.551019</td>\n",
       "      <td id=\"T_c8f22_row6_col2\" class=\"data row6 col2\" >0.581621</td>\n",
       "    </tr>\n",
       "    <tr>\n",
       "      <td id=\"T_c8f22_row7_col0\" class=\"data row7 col0\" >suicidewatch</td>\n",
       "      <td id=\"T_c8f22_row7_col1\" class=\"data row7 col1\" >1.643746</td>\n",
       "      <td id=\"T_c8f22_row7_col2\" class=\"data row7 col2\" >0.100229</td>\n",
       "    </tr>\n",
       "    <tr>\n",
       "      <td id=\"T_c8f22_row8_col0\" class=\"data row8 col0\" >addiction</td>\n",
       "      <td id=\"T_c8f22_row8_col1\" class=\"data row8 col1\" >0.481856</td>\n",
       "      <td id=\"T_c8f22_row8_col2\" class=\"data row8 col2\" >0.629908</td>\n",
       "    </tr>\n",
       "    <tr>\n",
       "      <td id=\"T_c8f22_row9_col0\" class=\"data row9 col0\" >bpd</td>\n",
       "      <td id=\"T_c8f22_row9_col1\" class=\"data row9 col1\" >-0.454428</td>\n",
       "      <td id=\"T_c8f22_row9_col2\" class=\"data row9 col2\" >0.649521</td>\n",
       "    </tr>\n",
       "    <tr>\n",
       "      <td id=\"T_c8f22_row10_col0\" class=\"data row10 col0\" >autism</td>\n",
       "      <td id=\"T_c8f22_row10_col1\" class=\"data row10 col1\" >1.358547</td>\n",
       "      <td id=\"T_c8f22_row10_col2\" class=\"data row10 col2\" >0.174290</td>\n",
       "    </tr>\n",
       "    <tr>\n",
       "      <td id=\"T_c8f22_row11_col0\" class=\"data row11 col0\" >schizophrenia</td>\n",
       "      <td id=\"T_c8f22_row11_col1\" class=\"data row11 col1\" >0.246796</td>\n",
       "      <td id=\"T_c8f22_row11_col2\" class=\"data row11 col2\" >0.805066</td>\n",
       "    </tr>\n",
       "    <tr>\n",
       "      <td id=\"T_c8f22_row12_col0\" class=\"data row12 col0\" >adhd</td>\n",
       "      <td id=\"T_c8f22_row12_col1\" class=\"data row12 col1\" >2.955800</td>\n",
       "      <td id=\"T_c8f22_row12_col2\" class=\"data row12 col2\" >0.003119</td>\n",
       "    </tr>\n",
       "    <tr>\n",
       "      <td id=\"T_c8f22_row13_col0\" class=\"data row13 col0\" >depression</td>\n",
       "      <td id=\"T_c8f22_row13_col1\" class=\"data row13 col1\" >1.693505</td>\n",
       "      <td id=\"T_c8f22_row13_col2\" class=\"data row13 col2\" >0.090359</td>\n",
       "    </tr>\n",
       "    <tr>\n",
       "      <td id=\"T_c8f22_row14_col0\" class=\"data row14 col0\" >anxiety</td>\n",
       "      <td id=\"T_c8f22_row14_col1\" class=\"data row14 col1\" >6.492918</td>\n",
       "      <td id=\"T_c8f22_row14_col2\" class=\"data row14 col2\" >0.000000</td>\n",
       "    </tr>\n",
       "  </tbody>\n",
       "</table>\n"
      ]
     },
     "metadata": {},
     "execution_count": 13
    }
   ],
   "metadata": {
    "tags": [
     "remove-input"
    ]
   }
  },
  {
   "cell_type": "markdown",
   "source": [
    "We set a standard threshold $\\alpha = 0.05$ for statistical significance to compare the p-values for each subreddit. \n",
    "We concluded that _r/adhd_ and _r/lonely_ saw a stistically significant difference between median number of references to substance abuse per reddit-post when comparing the _before_ and _during_ datasets.\n",
    "The remaining subreddits tested showed no statistically significant difference between median number of references to substance abuse per reddit-post when comparing the _before_ and _during_ datasets."
   ],
   "metadata": {}
  }
 ],
 "metadata": {
  "celltoolbar": "Tags",
  "interpreter": {
   "hash": "62d3735a9fd8dd6ee13e45d1616ed7f994f6c0c5285e057d5fed1df4a3792bd6"
  },
  "kernelspec": {
   "name": "python3",
   "display_name": "Python 3.10.0 64-bit ('covid_reddit_behaviour': conda)"
  },
  "language_info": {
   "codemirror_mode": {
    "name": "ipython",
    "version": 3
   },
   "file_extension": ".py",
   "mimetype": "text/x-python",
   "name": "python",
   "nbconvert_exporter": "python",
   "pygments_lexer": "ipython3",
   "version": "3.10.0"
  }
 },
 "nbformat": 4,
 "nbformat_minor": 2
}